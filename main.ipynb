{
 "cells": [
  {
   "cell_type": "code",
   "execution_count": 16,
   "id": "110db941",
   "metadata": {},
   "outputs": [],
   "source": [
    "import cv2\n",
    "\n",
    "img = cv2.imread(filename=\"image/id.png\")\n",
    "cv2.imshow(\"ID Card\", img)\n",
    "cv2.waitKey(0)\n",
    "cv2.destroyAllWindows()\n"
   ]
  },
  {
   "cell_type": "code",
   "execution_count": 1,
   "id": "9cc488ad",
   "metadata": {},
   "outputs": [
    {
     "name": "stdout",
     "output_type": "stream",
     "text": [
      "Name: JOHN DOE\n",
      "ID: JB-007\n",
      "Email: john@example.com\n",
      "Nationality: AMERICAN\n",
      "Address: 123 MAIN STREET, YOUR CITY, USA 789456\n",
      "------------------------------\n"
     ]
    }
   ],
   "source": [
    "import sqlite3\n",
    "\n",
    "# Connect to the existing database\n",
    "conn = sqlite3.connect(\"database/users.db\")\n",
    "cursor = conn.cursor()\n",
    "\n",
    "# Query all users\n",
    "cursor.execute(\"SELECT * FROM users\")\n",
    "rows = cursor.fetchall()  # fetch all results\n",
    "\n",
    "# Print each user's info\n",
    "for row in rows:\n",
    "    full_name, id_number, email, nationality, address = row\n",
    "    print(f\"Name: {full_name}\")\n",
    "    print(f\"ID: {id_number}\")\n",
    "    print(f\"Email: {email}\")\n",
    "    print(f\"Nationality: {nationality}\")\n",
    "    print(f\"Address: {address}\")\n",
    "    print(\"-\" * 30)\n",
    "\n",
    "conn.close()\n"
   ]
  },
  {
   "cell_type": "code",
   "execution_count": null,
   "id": "f2ec5905",
   "metadata": {},
   "outputs": [],
   "source": []
  },
  {
   "cell_type": "code",
   "execution_count": 1,
   "id": "4fec6750",
   "metadata": {},
   "outputs": [
    {
     "name": "stdout",
     "output_type": "stream",
     "text": [
      "---- Extracted Text from ID ----\n",
      "PASS Proof of Age Card CIT: ZENCARD\n",
      "\n",
      "Name\n",
      "Angela\n",
      "Greene\n",
      "\n",
      "DoB\n",
      "\n",
      "09 Nov 2002\n",
      "\n",
      "Expires on\n",
      "\n",
      "30 Apr 2028\n",
      "Vo” 5843 2166 1964 2184\n",
      "\n",
      "=NPCC Sia : +\n",
      "= National Police Chiefs’ Council Security Industry Authority 1 8\n",
      "\n",
      "\n"
     ]
    }
   ],
   "source": [
    "import cv2\n",
    "import pytesseract\n",
    "\n",
    "\n",
    "pytesseract.pytesseract.tesseract_cmd = 'R:/Program Files/Tesserat-OCR/tesseract.exe'\n",
    "\n",
    "# ---- Load the image (must be in same folder or give full path) ----\n",
    "image_path =img = \"image/id.png\"\n",
    "  # Replace with your actual image\n",
    "img = cv2.imread(image_path)\n",
    "\n",
    "# Optional preprocessing (improves OCR results)\n",
    "gray = cv2.cvtColor(img, cv2.COLOR_BGR2GRAY)  # Convert to grayscale\n",
    "# You can also use thresholding or blurring to clean noise if needed\n",
    "\n",
    "# ---- Extract text using OCR ----\n",
    "text = pytesseract.image_to_string(gray)\n",
    "\n",
    "# ---- Print extracted text ----\n",
    "print(\"---- Extracted Text from ID ----\")\n",
    "print(text)\n"
   ]
  },
  {
   "cell_type": "code",
   "execution_count": 23,
   "id": "58623794",
   "metadata": {},
   "outputs": [
    {
     "name": "stdout",
     "output_type": "stream",
     "text": [
      "\n",
      "Extracted Data:\n",
      "{'name': 'Angela', 'id_number': None, 'dob': None}\n"
     ]
    }
   ],
   "source": [
    "import re\n",
    "\n",
    "ocr_text = text\n",
    "\n",
    "# More flexible regex patterns\n",
    "name_match = re.search(r'[Nn]ame[:\\-]?\\s*(.+)', ocr_text)\n",
    "id_match = re.search(r'[Ii][Dd][\\s\\-]*[Nn]o[:\\-]?\\s*(\\d+)', ocr_text)\n",
    "dob_match = re.search(r'(DOB|Date of Birth)[:\\-]?\\s*(\\d{2}/\\d{2}/\\d{4})', ocr_text)\n",
    "\n",
    "# Extracted Data\n",
    "extracted_data = {\n",
    "    \"name\": name_match.group(1).strip() if name_match else None,\n",
    "    \"id_number\": id_match.group(1).strip() if id_match else None,\n",
    "    \"dob\": dob_match.group(2).strip() if dob_match else None  # group(2) because we captured two parts\n",
    "}\n",
    "\n",
    "print(\"\\nExtracted Data:\")\n",
    "print(extracted_data)"
   ]
  },
  {
   "cell_type": "code",
   "execution_count": 2,
   "id": "e73182d6",
   "metadata": {},
   "outputs": [],
   "source": [
    "import easyocr\n",
    "import cv2\n",
    "import matplotlib.pyplot as plt\n"
   ]
  },
  {
   "cell_type": "code",
   "execution_count": 9,
   "id": "c9bf57ea",
   "metadata": {},
   "outputs": [
    {
     "name": "stdout",
     "output_type": "stream",
     "text": [
      "Detected: RhRn Anq htoq PP& os-a+P hce (Confidence: 0.11)\n",
      "Detected: Addis Ababa City Resident ID Card (Confidence: 0.83)\n",
      "Detected: P9e 770 (Confidence: 0.14)\n",
      "Detected: No AA0001391718 (Confidence: 0.46)\n",
      "Detected: Poes.EAD No (Confidence: 0.15)\n",
      "Detected: IDIADAO-/00876752 (Confidence: 0.35)\n",
      "Detected: ae4 nge (Confidence: 0.13)\n",
      "Detected: oUoPE PntA04 (Confidence: 0.05)\n",
      "Detected: Full Name (Confidence: 0.93)\n",
      "Detected: MOHAMMED YASIN AWOL (Confidence: 0.92)\n",
      "Detected: Pto42 + /DOB +U4 15. 1994/DEC 24. 2001 (Confidence: 0.12)\n",
      "Detected: Pege AEit/Blood Group NA (Confidence: 0.41)\n",
      "Detected: #Sex (Confidence: 0.22)\n",
      "Detected: ptnmit # /ssue Dt (Confidence: 0.14)\n",
      "Detected: J4C 242015/De< 03.2022 (Confidence: 0.20)\n",
      "Detected: Felfasnt + /Expiry Dt (Confidence: 0.11)\n",
      "Detected: JRC 24.2019/0-< 03.2028 (Confidence: 0.20)\n",
      "Detected: /Reg: (Confidence: 0.39)\n"
     ]
    }
   ],
   "source": [
    "\n",
    "\n",
    "# Load image\n",
    "image_path = \"image/id.png\"\n",
    "\n",
    "# Create OCR reader (English)\n",
    "reader = easyocr.Reader(['en'])  # Add more languages if needed\n",
    "\n",
    "# Run OCR\n",
    "results = reader.readtext(image_path)\n",
    "\n",
    "# Display results\n",
    "for (bbox, text, prob) in results:\n",
    "    print(f\"Detected: {text} (Confidence: {prob:.2f})\")\n"
   ]
  },
  {
   "cell_type": "code",
   "execution_count": 10,
   "id": "30bf2fcb",
   "metadata": {},
   "outputs": [
    {
     "name": "stdout",
     "output_type": "stream",
     "text": [
      "🧾 Extracted Data: {'name': 'Mohammed Yasin Awol', 'dob': None, 'id_number': None}\n"
     ]
    }
   ],
   "source": [
    "import re\n",
    "\n",
    "# Keywords to look for (lowercase for matching)\n",
    "KEYWORDS = ['dob', 'expires', 'issued', 'id', 'number', 'no']\n",
    "\n",
    "# Normalize text\n",
    "lines = [line.strip() for (_, line, _) in results]\n",
    "lines_lower = [l.lower() for l in lines]\n",
    "\n",
    "name = None\n",
    "dob = None\n",
    "id_number = None\n",
    "\n",
    "# 1. Find name lines\n",
    "for idx, line in enumerate(lines_lower):\n",
    "    if 'name' in line:\n",
    "        name_lines = []\n",
    "        for original_line in lines[idx + 1:]:\n",
    "            l = original_line.lower()\n",
    "            if any(k in l for k in KEYWORDS):\n",
    "                break\n",
    "            if original_line.strip():  # Skip empty lines\n",
    "                name_lines.append(original_line.strip())\n",
    "        name = \" \".join(name_lines)\n",
    "        break\n",
    "\n",
    "# 2. DOB regex: day or month first formats like \"09 Nov 2002\"\n",
    "for l in lines:\n",
    "    match = re.search(r'\\b(\\d{1,2}[ /-]?[A-Za-z]{3,9}[ /-]?\\d{2,4})\\b', l)\n",
    "    if match:\n",
    "        dob = match.group(1)\n",
    "        break\n",
    "\n",
    "# 3. ID number: e.g., \"1234 5678 9012 3456\" or \"1234-5678-9012-3456\"\n",
    "for l in lines:\n",
    "    match = re.search(r'\\b(\\d{4}[\\s\\-]?\\d{4}[\\s\\-]?\\d{4}[\\s\\-]?\\d{4})\\b', l)\n",
    "    if match:\n",
    "        id_number = re.sub(r'[\\s\\-]', '', match.group(1))\n",
    "        break\n",
    "\n",
    "# 🔍 Final Output\n",
    "extracted_data = {\n",
    "    \"name\": name.title() if name else None,\n",
    "    \"dob\": dob,\n",
    "    \"id_number\": id_number\n",
    "}\n",
    "\n",
    "print(\"🧾 Extracted Data:\", extracted_data)\n"
   ]
  }
 ],
 "metadata": {
  "kernelspec": {
   "display_name": "base",
   "language": "python",
   "name": "python3"
  },
  "language_info": {
   "codemirror_mode": {
    "name": "ipython",
    "version": 3
   },
   "file_extension": ".py",
   "mimetype": "text/x-python",
   "name": "python",
   "nbconvert_exporter": "python",
   "pygments_lexer": "ipython3",
   "version": "3.12.3"
  }
 },
 "nbformat": 4,
 "nbformat_minor": 5
}
