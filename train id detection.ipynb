{
 "cells": [
  {
   "cell_type": "code",
   "execution_count": null,
   "id": "899c0d0c",
   "metadata": {},
   "outputs": [],
   "source": [
    "import pathlib\n",
    "import random\n",
    "import shutil\n",
    "import sys\n",
    "import xml.etree.ElementTree as ET\n",
    "\n",
    "\n",
    "import matplotlib.pyplot as plt\n",
    "import pandas as pd\n",
    "from pathlib import Path\n",
    "import torch\n",
    "import ultralytics\n",
    "import yaml\n",
    "from IPython import display\n",
    "from PIL import Image\n",
    "from tqdm.notebook import tqdm\n",
    "from ultralytics import YOLO"
   ]
  },
  {
   "cell_type": "markdown",
   "id": "816be475",
   "metadata": {},
   "source": [
    "**print nesasary data **"
   ]
  },
  {
   "cell_type": "code",
   "execution_count": 2,
   "id": "ee89eca5",
   "metadata": {},
   "outputs": [
    {
     "name": "stdout",
     "output_type": "stream",
     "text": [
      "Platform: win32\n",
      "Python version: 3.12.3 | packaged by conda-forge | (main, Apr 15 2024, 18:20:11) [MSC v.1938 64 bit (AMD64)]\n",
      "---\n",
      "matplotlib version: 3.9.2\n",
      "pandas version: 2.2.2\n",
      "PIL version: 10.4.0\n",
      "PyYAML version: 6.0.1\n",
      "torch version: 2.5.1\n",
      "ultralytics version: 8.3.78\n"
     ]
    }
   ],
   "source": [
    "print(\"Platform:\", sys.platform)\n",
    "print(\"Python version:\", sys.version)\n",
    "print(\"---\")\n",
    "print(\"matplotlib version:\", plt.matplotlib.__version__)\n",
    "print(\"pandas version:\", pd.__version__)\n",
    "print(\"PIL version:\", Image.__version__)\n",
    "print(\"PyYAML version:\", yaml.__version__)\n",
    "print(\"torch version:\", torch.__version__)\n",
    "print(\"ultralytics version:\", ultralytics.__version__)"
   ]
  },
  {
   "cell_type": "code",
   "execution_count": 3,
   "id": "15ea75af",
   "metadata": {},
   "outputs": [
    {
     "name": "stdout",
     "output_type": "stream",
     "text": [
      "Using cuda device.\n"
     ]
    }
   ],
   "source": [
    "if torch.cuda.is_available():\n",
    "    device = torch.device(\"cuda\")\n",
    "else:\n",
    "    device = torch.device(\"cpu\")\n",
    "\n",
    "print(f\"Using {device} device.\")"
   ]
  },
  {
   "cell_type": "markdown",
   "id": "b5717e7b",
   "metadata": {},
   "source": [
    "### Data Transformation"
   ]
  },
  {
   "cell_type": "code",
   "execution_count": 4,
   "id": "d4b5e6bf",
   "metadata": {},
   "outputs": [
    {
     "name": "stdout",
     "output_type": "stream",
     "text": [
      "Too many parameters - --filelimit=3\n"
     ]
    }
   ],
   "source": [
    "!tree id_card_dataset/ --filelimit=3"
   ]
  },
  {
   "cell_type": "code",
   "execution_count": 16,
   "id": "ae6388a1",
   "metadata": {},
   "outputs": [
    {
     "ename": "FileNotFoundError",
     "evalue": "[Errno 2] No such file or directory: 'id_card_dataset\\\\train\\\\annotations\\\\01.xml'",
     "output_type": "error",
     "traceback": [
      "\u001b[1;31m---------------------------------------------------------------------------\u001b[0m",
      "\u001b[1;31mFileNotFoundError\u001b[0m                         Traceback (most recent call last)",
      "Cell \u001b[1;32mIn[16], line 31\u001b[0m\n\u001b[0;32m     26\u001b[0m         objects\u001b[38;5;241m.\u001b[39mappend([class_id] \u001b[38;5;241m+\u001b[39m yolo_bbox)\n\u001b[0;32m     28\u001b[0m     \u001b[38;5;28;01mreturn\u001b[39;00m objects\n\u001b[1;32m---> 31\u001b[0m objects \u001b[38;5;241m=\u001b[39m parse_annotations(annotations_dir \u001b[38;5;241m/\u001b[39m \u001b[38;5;124m\"\u001b[39m\u001b[38;5;124m01.xml\u001b[39m\u001b[38;5;124m\"\u001b[39m)\n\u001b[0;32m     32\u001b[0m \u001b[38;5;28mprint\u001b[39m(\u001b[38;5;124m\"\u001b[39m\u001b[38;5;124mFirst object:\u001b[39m\u001b[38;5;124m\"\u001b[39m, objects[\u001b[38;5;241m0\u001b[39m])\n",
      "Cell \u001b[1;32mIn[16], line 11\u001b[0m, in \u001b[0;36mparse_annotations\u001b[1;34m(f)\u001b[0m\n\u001b[0;32m      2\u001b[0m \u001b[38;5;250m\u001b[39m\u001b[38;5;124;03m\"\"\"Parse all of the objects in a given XML file to YOLO format.\u001b[39;00m\n\u001b[0;32m      3\u001b[0m \n\u001b[0;32m      4\u001b[0m \u001b[38;5;124;03mInput:  f      The path of the file to parse.\u001b[39;00m\n\u001b[0;32m      5\u001b[0m \n\u001b[0;32m      6\u001b[0m \u001b[38;5;124;03mOutput: A list of objects in YOLO format.\u001b[39;00m\n\u001b[0;32m      7\u001b[0m \u001b[38;5;124;03m        Each object is a list [index, x_center, y_center, width, height].\"\"\"\u001b[39;00m\n\u001b[0;32m      9\u001b[0m objects \u001b[38;5;241m=\u001b[39m []\n\u001b[1;32m---> 11\u001b[0m tree \u001b[38;5;241m=\u001b[39m ET\u001b[38;5;241m.\u001b[39mparse(f)\n\u001b[0;32m     12\u001b[0m root \u001b[38;5;241m=\u001b[39m tree\u001b[38;5;241m.\u001b[39mgetroot()\n\u001b[0;32m     13\u001b[0m width \u001b[38;5;241m=\u001b[39m \u001b[38;5;28mint\u001b[39m(root\u001b[38;5;241m.\u001b[39mfind(\u001b[38;5;124m\"\u001b[39m\u001b[38;5;124msize\u001b[39m\u001b[38;5;124m\"\u001b[39m)\u001b[38;5;241m.\u001b[39mfind(\u001b[38;5;124m\"\u001b[39m\u001b[38;5;124mwidth\u001b[39m\u001b[38;5;124m\"\u001b[39m)\u001b[38;5;241m.\u001b[39mtext)\n",
      "File \u001b[1;32mr:\\Users\\mamul\\anaconda3\\Lib\\xml\\etree\\ElementTree.py:1204\u001b[0m, in \u001b[0;36mparse\u001b[1;34m(source, parser)\u001b[0m\n\u001b[0;32m   1195\u001b[0m \u001b[38;5;250m\u001b[39m\u001b[38;5;124;03m\"\"\"Parse XML document into element tree.\u001b[39;00m\n\u001b[0;32m   1196\u001b[0m \n\u001b[0;32m   1197\u001b[0m \u001b[38;5;124;03m*source* is a filename or file object containing XML data,\u001b[39;00m\n\u001b[1;32m   (...)\u001b[0m\n\u001b[0;32m   1201\u001b[0m \n\u001b[0;32m   1202\u001b[0m \u001b[38;5;124;03m\"\"\"\u001b[39;00m\n\u001b[0;32m   1203\u001b[0m tree \u001b[38;5;241m=\u001b[39m ElementTree()\n\u001b[1;32m-> 1204\u001b[0m tree\u001b[38;5;241m.\u001b[39mparse(source, parser)\n\u001b[0;32m   1205\u001b[0m \u001b[38;5;28;01mreturn\u001b[39;00m tree\n",
      "File \u001b[1;32mr:\\Users\\mamul\\anaconda3\\Lib\\xml\\etree\\ElementTree.py:558\u001b[0m, in \u001b[0;36mElementTree.parse\u001b[1;34m(self, source, parser)\u001b[0m\n\u001b[0;32m    556\u001b[0m close_source \u001b[38;5;241m=\u001b[39m \u001b[38;5;28;01mFalse\u001b[39;00m\n\u001b[0;32m    557\u001b[0m \u001b[38;5;28;01mif\u001b[39;00m \u001b[38;5;129;01mnot\u001b[39;00m \u001b[38;5;28mhasattr\u001b[39m(source, \u001b[38;5;124m\"\u001b[39m\u001b[38;5;124mread\u001b[39m\u001b[38;5;124m\"\u001b[39m):\n\u001b[1;32m--> 558\u001b[0m     source \u001b[38;5;241m=\u001b[39m \u001b[38;5;28mopen\u001b[39m(source, \u001b[38;5;124m\"\u001b[39m\u001b[38;5;124mrb\u001b[39m\u001b[38;5;124m\"\u001b[39m)\n\u001b[0;32m    559\u001b[0m     close_source \u001b[38;5;241m=\u001b[39m \u001b[38;5;28;01mTrue\u001b[39;00m\n\u001b[0;32m    560\u001b[0m \u001b[38;5;28;01mtry\u001b[39;00m:\n",
      "\u001b[1;31mFileNotFoundError\u001b[0m: [Errno 2] No such file or directory: 'id_card_dataset\\\\train\\\\annotations\\\\01.xml'"
     ]
    }
   ],
   "source": [
    "def parse_annotations(f):\n",
    "    \"\"\"Parse all of the objects in a given XML file to YOLO format.\n",
    "\n",
    "    Input:  f      The path of the file to parse.\n",
    "\n",
    "    Output: A list of objects in YOLO format.\n",
    "            Each object is a list [index, x_center, y_center, width, height].\"\"\"\n",
    "\n",
    "    objects = []\n",
    "\n",
    "    tree = ET.parse(f)\n",
    "    root = tree.getroot()\n",
    "    width = int(root.find(\"size\").find(\"width\").text)\n",
    "    height = int(root.find(\"size\").find(\"height\").text)\n",
    "\n",
    "    for obj in root.findall(\"object\"):\n",
    "        label = obj.find(\"name\").text\n",
    "        class_id = class_mapping[label]\n",
    "        bndbox = obj.find(\"bndbox\")\n",
    "        xmin = int(bndbox.find(\"xmin\").text)\n",
    "        ymin = int(bndbox.find(\"ymin\").text)\n",
    "        xmax = int(bndbox.find(\"xmax\").text)\n",
    "        ymax = int(bndbox.find(\"ymax\").text)\n",
    "        yolo_bbox = xml_to_yolo_bbox([xmin, ymin, xmax, ymax], width, height)\n",
    "\n",
    "        objects.append([class_id] + yolo_bbox)\n",
    "\n",
    "    return objects\n",
    "\n",
    "\n",
    "objects = parse_annotations(annotations_dir / \"01.xml\")\n",
    "print(\"First object:\", objects[0])"
   ]
  },
  {
   "cell_type": "code",
   "execution_count": 6,
   "id": "4afe5976",
   "metadata": {},
   "outputs": [
    {
     "name": "stdout",
     "output_type": "stream",
     "text": [
      "Images     : id_card_dataset\\train\\images\n",
      "Annotations: id_card_dataset\\train\\annotations\n"
     ]
    }
   ],
   "source": [
    "training_dir = pathlib.Path(\"id_card_dataset\", \"train\")\n",
    "images_dir = training_dir / \"images\"\n",
    "annotations_dir = training_dir / \"annotations\"\n",
    "\n",
    "print(\"Images     :\", images_dir)\n",
    "print(\"Annotations:\", annotations_dir)"
   ]
  },
  {
   "cell_type": "code",
   "execution_count": 24,
   "id": "a9a30ff8",
   "metadata": {},
   "outputs": [],
   "source": [
    "model = YOLO(\"yolov8n.pt\")\n",
    "\n",
    "model = model.to(device)"
   ]
  },
  {
   "cell_type": "code",
   "execution_count": null,
   "id": "7c240f3f",
   "metadata": {},
   "outputs": [],
   "source": [
    "results = model.train(\n",
    "    data=\"id_card_dataset/data.yaml\",\n",
    "    epochs=50,\n",
    "    imgsz=640,\n",
    "    batch=16,\n",
    "    name=\"id_card_detector_augmented\",\n",
    "    project=\"runs/train_yolo\",\n",
    "    device=0,\n",
    "    degrees=10,        # rotate images by ±10°\n",
    "    scale=0.5,         # zoom in/out\n",
    "    shear=5.0,         # shearing\n",
    "    perspective=0.001, # slight perspective distortion\n",
    "    flipud=0.2,        # vertical flip with 20% chance\n",
    "    fliplr=0.5,        # horizontal flip with 50% chance\n",
    "    hsv_h=0.015, hsv_s=0.7, hsv_v=0.4  # color jitter\n",
    ")\n"
   ]
  },
  {
   "cell_type": "code",
   "execution_count": 4,
   "id": "28290e01",
   "metadata": {},
   "outputs": [
    {
     "data": {
      "text/plain": [
       "'check trainded yolo model'"
      ]
     },
     "execution_count": 4,
     "metadata": {},
     "output_type": "execute_result"
    }
   ],
   "source": [
    "\"\"\"check trainded yolo model\"\"\""
   ]
  },
  {
   "cell_type": "code",
   "execution_count": null,
   "id": "1397ab4e",
   "metadata": {},
   "outputs": [
    {
     "ename": "AttributeError",
     "evalue": "'DetectionModel' object has no attribute 'detect'",
     "output_type": "error",
     "traceback": [
      "\u001b[1;31m---------------------------------------------------------------------------\u001b[0m",
      "\u001b[1;31mAttributeError\u001b[0m                            Traceback (most recent call last)",
      "Cell \u001b[1;32mIn[10], line 10\u001b[0m\n\u001b[0;32m      8\u001b[0m \u001b[38;5;66;03m# Load test image\u001b[39;00m\n\u001b[0;32m      9\u001b[0m img_path \u001b[38;5;241m=\u001b[39m \u001b[38;5;124m\"\u001b[39m\u001b[38;5;124m./id_card_dataset/test/images/s63_jpg.rf.385e7719d5b719273015b020eaf97b91.jpg\u001b[39m\u001b[38;5;124m\"\u001b[39m\n\u001b[1;32m---> 10\u001b[0m results \u001b[38;5;241m=\u001b[39m model_2\u001b[38;5;241m.\u001b[39mdetect(img_path)\n\u001b[0;32m     11\u001b[0m \u001b[38;5;66;03m# Show results with bounding boxes\u001b[39;00m\n\u001b[0;32m     12\u001b[0m results[\u001b[38;5;241m0\u001b[39m]\u001b[38;5;241m.\u001b[39mshow()\n",
      "File \u001b[1;32mr:\\Users\\mamul\\anaconda3\\Lib\\site-packages\\ultralytics\\engine\\model.py:1177\u001b[0m, in \u001b[0;36mModel.__getattr__\u001b[1;34m(self, name)\u001b[0m\n\u001b[0;32m   1155\u001b[0m \u001b[38;5;28;01mdef\u001b[39;00m \u001b[38;5;21m__getattr__\u001b[39m(\u001b[38;5;28mself\u001b[39m, name):\n\u001b[0;32m   1156\u001b[0m \u001b[38;5;250m    \u001b[39m\u001b[38;5;124;03m\"\"\"\u001b[39;00m\n\u001b[0;32m   1157\u001b[0m \u001b[38;5;124;03m    Enables accessing model attributes directly through the Model class.\u001b[39;00m\n\u001b[0;32m   1158\u001b[0m \n\u001b[1;32m   (...)\u001b[0m\n\u001b[0;32m   1175\u001b[0m \u001b[38;5;124;03m        >>> print(model.task)\u001b[39;00m\n\u001b[0;32m   1176\u001b[0m \u001b[38;5;124;03m    \"\"\"\u001b[39;00m\n\u001b[1;32m-> 1177\u001b[0m     \u001b[38;5;28;01mreturn\u001b[39;00m \u001b[38;5;28mself\u001b[39m\u001b[38;5;241m.\u001b[39m_modules[\u001b[38;5;124m\"\u001b[39m\u001b[38;5;124mmodel\u001b[39m\u001b[38;5;124m\"\u001b[39m] \u001b[38;5;28;01mif\u001b[39;00m name \u001b[38;5;241m==\u001b[39m \u001b[38;5;124m\"\u001b[39m\u001b[38;5;124mmodel\u001b[39m\u001b[38;5;124m\"\u001b[39m \u001b[38;5;28;01melse\u001b[39;00m \u001b[38;5;28mgetattr\u001b[39m(\u001b[38;5;28mself\u001b[39m\u001b[38;5;241m.\u001b[39mmodel, name)\n",
      "File \u001b[1;32mr:\\Users\\mamul\\anaconda3\\Lib\\site-packages\\torch\\nn\\modules\\module.py:1931\u001b[0m, in \u001b[0;36mModule.__getattr__\u001b[1;34m(self, name)\u001b[0m\n\u001b[0;32m   1929\u001b[0m     \u001b[38;5;28;01mif\u001b[39;00m name \u001b[38;5;129;01min\u001b[39;00m modules:\n\u001b[0;32m   1930\u001b[0m         \u001b[38;5;28;01mreturn\u001b[39;00m modules[name]\n\u001b[1;32m-> 1931\u001b[0m \u001b[38;5;28;01mraise\u001b[39;00m \u001b[38;5;167;01mAttributeError\u001b[39;00m(\n\u001b[0;32m   1932\u001b[0m     \u001b[38;5;124mf\u001b[39m\u001b[38;5;124m\"\u001b[39m\u001b[38;5;124m'\u001b[39m\u001b[38;5;132;01m{\u001b[39;00m\u001b[38;5;28mtype\u001b[39m(\u001b[38;5;28mself\u001b[39m)\u001b[38;5;241m.\u001b[39m\u001b[38;5;18m__name__\u001b[39m\u001b[38;5;132;01m}\u001b[39;00m\u001b[38;5;124m'\u001b[39m\u001b[38;5;124m object has no attribute \u001b[39m\u001b[38;5;124m'\u001b[39m\u001b[38;5;132;01m{\u001b[39;00mname\u001b[38;5;132;01m}\u001b[39;00m\u001b[38;5;124m'\u001b[39m\u001b[38;5;124m\"\u001b[39m\n\u001b[0;32m   1933\u001b[0m )\n",
      "\u001b[1;31mAttributeError\u001b[0m: 'DetectionModel' object has no attribute 'detect'"
     ]
    }
   ],
   "source": [
    "from ultralytics import YOLO\n",
    "import cv2\n",
    "from matplotlib import pyplot as plt\n",
    "\n",
    "# Load your trained model\n",
    "model_2 = YOLO(\"./models/best.pt\")\n",
    "\n",
    "# Load test image\n",
    "img_path = \"./id_card_dataset/test/images/s63_jpg.rf.385e7719d5b719273015b020eaf97b91.jpg\"\n",
    "results = model_2.(img_path)\n",
    "# Show results with bounding boxes\n",
    "results[0].show()\n",
    "\n",
    "# (Optional) Display with matplotlib in Colab\n",
    "\n"
   ]
  },
  {
   "cell_type": "markdown",
   "id": "ca55d25c",
   "metadata": {},
   "source": []
  }
 ],
 "metadata": {
  "kernelspec": {
   "display_name": "base",
   "language": "python",
   "name": "python3"
  },
  "language_info": {
   "codemirror_mode": {
    "name": "ipython",
    "version": 3
   },
   "file_extension": ".py",
   "mimetype": "text/x-python",
   "name": "python",
   "nbconvert_exporter": "python",
   "pygments_lexer": "ipython3",
   "version": "3.12.3"
  }
 },
 "nbformat": 4,
 "nbformat_minor": 5
}
