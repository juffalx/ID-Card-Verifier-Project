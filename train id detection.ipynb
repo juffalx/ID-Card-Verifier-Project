{
 "cells": [
  {
   "cell_type": "code",
   "execution_count": 1,
   "id": "899c0d0c",
   "metadata": {},
   "outputs": [],
   "source": [
    "import pathlib\n",
    "import random\n",
    "import shutil\n",
    "import sys\n",
    "import xml.etree.ElementTree as ET\n",
    "\n",
    "\n",
    "import matplotlib.pyplot as plt\n",
    "import pandas as pd\n",
    "from pathlib import Path\n",
    "import torch\n",
    "import ultralytics\n",
    "import yaml\n",
    "from IPython import display\n",
    "from PIL import Image\n",
    "from tqdm.notebook import tqdm\n",
    "from ultralytics import YOLO"
   ]
  },
  {
   "cell_type": "markdown",
   "id": "816be475",
   "metadata": {},
   "source": [
    "**print nesasary data **"
   ]
  },
  {
   "cell_type": "code",
   "execution_count": null,
   "id": "ee89eca5",
   "metadata": {},
   "outputs": [
    {
     "name": "stdout",
     "output_type": "stream",
     "text": [
      "Platform: win32\n",
      "Python version: 3.12.3 | packaged by conda-forge | (main, Apr 15 2024, 18:20:11) [MSC v.1938 64 bit (AMD64)]\n",
      "---\n",
      "matplotlib version: 3.9.2\n",
      "pandas version: 2.2.2\n",
      "PIL version: 10.4.0\n",
      "PyYAML version: 6.0.1\n",
      "torch version: 2.5.1\n",
      "ultralytics version: 8.3.78\n"
     ]
    }
   ],
   "source": [
    "print(\"Platform:\", sys.platform)\n",
    "print(\"Python version:\", sys.version)\n",
    "print(\"---\")\n",
    "print(\"matplotlib version:\", plt.matplotlib.__version__)\n",
    "print(\"pandas version:\", pd.__version__)\n",
    "print(\"PIL version:\", Image.__version__)\n",
    "print(\"PyYAML version:\", yaml.__version__)\n",
    "print(\"torch version:\", torch.__version__)\n",
    "print(\"ultralytics version:\", ultralytics.__version__)"
   ]
  },
  {
   "cell_type": "code",
   "execution_count": null,
   "id": "15ea75af",
   "metadata": {},
   "outputs": [
    {
     "name": "stdout",
     "output_type": "stream",
     "text": [
      "Using cuda device.\n"
     ]
    }
   ],
   "source": [
    "if torch.cuda.is_available():\n",
    "    device = torch.device(\"cuda\")\n",
    "else:\n",
    "    device = torch.device(\"cpu\")\n",
    "\n",
    "print(f\"Using {device} device.\")"
   ]
  },
  {
   "cell_type": "markdown",
   "id": "b5717e7b",
   "metadata": {},
   "source": [
    "### Data Transformation"
   ]
  },
  {
   "cell_type": "code",
   "execution_count": null,
   "id": "d4b5e6bf",
   "metadata": {},
   "outputs": [
    {
     "name": "stdout",
     "output_type": "stream",
     "text": [
      "Too many parameters - --filelimit=3\n"
     ]
    }
   ],
   "source": [
    "!tree id_card_dataset/ --filelimit=3"
   ]
  },
  {
   "cell_type": "code",
   "execution_count": null,
   "id": "ae6388a1",
   "metadata": {},
   "outputs": [],
   "source": []
  },
  {
   "cell_type": "code",
   "execution_count": null,
   "id": "4afe5976",
   "metadata": {},
   "outputs": [
    {
     "name": "stdout",
     "output_type": "stream",
     "text": [
      "Images     : id_card_dataset\\train\\images\n",
      "Annotations: id_card_dataset\\train\\annotations\n"
     ]
    }
   ],
   "source": [
    "training_dir = pathlib.Path(\"id_card_dataset\", \"train\")\n",
    "images_dir = training_dir / \"images\"\n",
    "annotations_dir = training_dir / \"annotations\"\n",
    "\n",
    "print(\"Images     :\", images_dir)\n",
    "print(\"Annotations:\", annotations_dir)"
   ]
  },
  {
   "cell_type": "markdown",
   "id": "ca55d25c",
   "metadata": {},
   "source": []
  }
 ],
 "metadata": {
  "kernelspec": {
   "display_name": "base",
   "language": "python",
   "name": "python3"
  },
  "language_info": {
   "codemirror_mode": {
    "name": "ipython",
    "version": 3
   },
   "file_extension": ".py",
   "mimetype": "text/x-python",
   "name": "python",
   "nbconvert_exporter": "python",
   "pygments_lexer": "ipython3",
   "version": "3.12.3"
  }
 },
 "nbformat": 4,
 "nbformat_minor": 5
}
